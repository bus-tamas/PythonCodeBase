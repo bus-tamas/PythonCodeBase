{
 "cells": [
  {
   "cell_type": "code",
   "execution_count": 19,
   "metadata": {},
   "outputs": [
    {
     "name": "stdout",
     "output_type": "stream",
     "text": [
      "Requirement already satisfied: mysql-connector-python in c:\\users\\adi4a\\appdata\\local\\packages\\pythonsoftwarefoundation.python.3.11_qbz5n2kfra8p0\\localcache\\local-packages\\python311\\site-packages (8.0.33)\n",
      "Requirement already satisfied: protobuf<=3.20.3,>=3.11.0 in c:\\users\\adi4a\\appdata\\local\\packages\\pythonsoftwarefoundation.python.3.11_qbz5n2kfra8p0\\localcache\\local-packages\\python311\\site-packages (from mysql-connector-python) (3.20.3)\n",
      "Note: you may need to restart the kernel to use updated packages.\n"
     ]
    }
   ],
   "source": [
    "pip install mysql-connector-python"
   ]
  },
  {
   "cell_type": "code",
   "execution_count": 16,
   "metadata": {},
   "outputs": [],
   "source": [
    "import mysql.connector"
   ]
  },
  {
   "cell_type": "code",
   "execution_count": 17,
   "metadata": {},
   "outputs": [],
   "source": [
    "def connectToDatabase(host,user,password,database):\n",
    "    connector = mysql.connector.connect(\n",
    "        host=host,\n",
    "        user=user,\n",
    "        password=password,\n",
    "        database=database\n",
    "    )\n",
    "    return connector"
   ]
  },
  {
   "cell_type": "code",
   "execution_count": 18,
   "metadata": {},
   "outputs": [],
   "source": [
    "connection = connectToDatabase(\"localhost\",\"root\",\"root\",\"c361\")"
   ]
  },
  {
   "cell_type": "code",
   "execution_count": 19,
   "metadata": {},
   "outputs": [],
   "source": [
    "cursor = connection.cursor()"
   ]
  },
  {
   "cell_type": "code",
   "execution_count": 20,
   "metadata": {},
   "outputs": [],
   "source": [
    "create_table = \"create table if not exists example_table(id int primary key auto_increment, name varchar(255), age int)\""
   ]
  },
  {
   "cell_type": "code",
   "execution_count": 21,
   "metadata": {},
   "outputs": [],
   "source": [
    "try:\n",
    "    cursor.execute(create_table)\n",
    "except Exception as e:\n",
    "    print(e)\n",
    "    print(\"Unsuccessful connection to database\")"
   ]
  },
  {
   "cell_type": "code",
   "execution_count": 22,
   "metadata": {},
   "outputs": [],
   "source": [
    "insert_data = \"insert into example_table(name,age) values(%s,%s)\""
   ]
  },
  {
   "cell_type": "code",
   "execution_count": 33,
   "metadata": {},
   "outputs": [],
   "source": [
    "cursor.execute(insert_data,[\"John\",26])"
   ]
  },
  {
   "cell_type": "code",
   "execution_count": 45,
   "metadata": {},
   "outputs": [],
   "source": [
    "# execute many\n",
    "data = [\n",
    "    (\"John\",26),\n",
    "    (\"Jane\",25),\n",
    "    (\"Jack\",24)\n",
    "]\n",
    "\n",
    "cursor.executemany(insert_data,data)"
   ]
  },
  {
   "cell_type": "code",
   "execution_count": 23,
   "metadata": {},
   "outputs": [],
   "source": [
    "connection.commit()"
   ]
  },
  {
   "cell_type": "code",
   "execution_count": 24,
   "metadata": {},
   "outputs": [],
   "source": [
    "select_data = \"select * from example_table\""
   ]
  },
  {
   "cell_type": "code",
   "execution_count": 25,
   "metadata": {},
   "outputs": [
    {
     "name": "stdout",
     "output_type": "stream",
     "text": [
      "(2, 'John', 25)\n",
      "(3, 'John', 26)\n",
      "(4, 'John', 26)\n",
      "(5, 'Jane', 25)\n",
      "(6, 'Jack', 24)\n"
     ]
    }
   ],
   "source": [
    "cursor.execute(select_data)\n",
    "for i in cursor.fetchall():\n",
    "    print(i)"
   ]
  },
  {
   "cell_type": "code",
   "execution_count": 49,
   "metadata": {},
   "outputs": [
    {
     "name": "stdout",
     "output_type": "stream",
     "text": [
      "(2, 'John', 25)\n",
      "(3, 'John', 26)\n",
      "(4, 'John', 26)\n"
     ]
    }
   ],
   "source": [
    "# using where clause\n",
    "select_data = \"select * from example_table where name = %s\"\n",
    "\n",
    "cursor.execute(select_data,[\"John\"])\n",
    "for i in cursor.fetchall():\n",
    "    print(i)"
   ]
  },
  {
   "cell_type": "code",
   "execution_count": 50,
   "metadata": {},
   "outputs": [
    {
     "name": "stdout",
     "output_type": "stream",
     "text": [
      "(3, 'John', 26)\n",
      "(4, 'John', 26)\n"
     ]
    }
   ],
   "source": [
    "# using where clause with multiple conditions\n",
    "select_data = \"select * from example_table where name = %s and age = %s\"\n",
    "\n",
    "cursor.execute(select_data,[\"John\",26])\n",
    "for i in cursor.fetchall():\n",
    "    print(i)\n",
    "    "
   ]
  },
  {
   "cell_type": "code",
   "execution_count": 51,
   "metadata": {},
   "outputs": [
    {
     "name": "stdout",
     "output_type": "stream",
     "text": [
      "('John', 3)\n",
      "('Jane', 1)\n",
      "('Jack', 1)\n"
     ]
    }
   ],
   "source": [
    "# using group by\n",
    "select_data = \"select name, count(*) from example_table group by name\"\n",
    "\n",
    "cursor.execute(select_data)\n",
    "for i in cursor.fetchall():\n",
    "    print(i)"
   ]
  },
  {
   "cell_type": "code",
   "execution_count": 11,
   "metadata": {},
   "outputs": [
    {
     "name": "stdout",
     "output_type": "stream",
     "text": [
      "(3, 'John', 26, 2, 'John', 25)\n",
      "(4, 'John', 26, 3, 'John', 26)\n",
      "(5, 'Jane', 25, 4, 'John', 26)\n",
      "(6, 'Jack', 24, 5, 'Jane', 25)\n"
     ]
    }
   ],
   "source": [
    "# mysql join\n",
    "select_data = \"select * from example_table a join example_table b on a.id = b.id+1\"\n",
    "\n",
    "cursor.execute(select_data)\n",
    "for i in cursor.fetchall():\n",
    "    print(i)"
   ]
  },
  {
   "cell_type": "code",
   "execution_count": 10,
   "metadata": {},
   "outputs": [],
   "source": [
    "# alter table\n",
    "alter_table = \"alter table example_table auto_increment=100\"\n",
    "\n",
    "cursor.execute(alter_table)"
   ]
  },
  {
   "cell_type": "code",
   "execution_count": 13,
   "metadata": {},
   "outputs": [],
   "source": [
    "cursor.execute(insert_data,[\"Aditya\",100])"
   ]
  },
  {
   "cell_type": "code",
   "execution_count": 27,
   "metadata": {},
   "outputs": [
    {
     "name": "stdout",
     "output_type": "stream",
     "text": [
      "(2, 'John', 25)\n",
      "(3, 'John', 26)\n",
      "(4, 'John', 26)\n",
      "(5, 'Jane', 25)\n",
      "(6, 'Jack', 24)\n"
     ]
    }
   ],
   "source": [
    "cursor.execute(select_data)\n",
    "for i in cursor.fetchall():\n",
    "    print(i)"
   ]
  },
  {
   "cell_type": "code",
   "execution_count": 31,
   "metadata": {},
   "outputs": [
    {
     "name": "stdout",
     "output_type": "stream",
     "text": [
      "(2, 'John', 25)\n",
      "(3, 'John', 26)\n",
      "(4, 'John', 26)\n",
      "(5, 'Jane', 25)\n",
      "(6, 'Jack', 24)\n"
     ]
    }
   ],
   "source": [
    "# example of rollback\n",
    "insert_data = \"insert into example_table(name,age) values(%s,%s)\"\n",
    "\n",
    "cursor.execute(insert_data,[\"James\",26])\n",
    "\n",
    "# execute many\n",
    "data = [\n",
    "    (\"Johnny\",26),\n",
    "    (\"Jenny\",25),\n",
    "    (\"JJ\",24)\n",
    "]\n",
    "\n",
    "cursor.executemany(insert_data,data)\n",
    "\n",
    "connection.rollback()\n",
    "\n",
    "cursor.execute(select_data)\n",
    "for i in cursor.fetchall():\n",
    "    print(i)\n"
   ]
  },
  {
   "cell_type": "code",
   "execution_count": 32,
   "metadata": {},
   "outputs": [
    {
     "name": "stdout",
     "output_type": "stream",
     "text": [
      "[(2, 'John', 25), (3, 'John', 26), (4, 'John', 26), (5, 'Jane', 25), (6, 'Jack', 24)]\n"
     ]
    }
   ],
   "source": [
    "# example  of stored procedure\n",
    "create_procedure = \"\"\"\n",
    "create procedure get_all_data()\n",
    "begin\n",
    "select * from example_table;\n",
    "end\n",
    "\"\"\"\n",
    "\n",
    "cursor.execute(create_procedure)\n",
    "\n",
    "cursor.callproc(\"get_all_data\")\n",
    "\n",
    "for i in cursor.stored_results():\n",
    "    print(i.fetchall())\n",
    "    "
   ]
  },
  {
   "cell_type": "code",
   "execution_count": 35,
   "metadata": {},
   "outputs": [
    {
     "name": "stdout",
     "output_type": "stream",
     "text": [
      "[(2, 'John', 25), (3, 'John', 26), (4, 'John', 26), (5, 'Jane', 25), (6, 'Jack', 24)]\n"
     ]
    }
   ],
   "source": [
    "# example of stored procedure with parameters\n",
    "create_procedure = \"\"\"\n",
    "create procedure if not exists get_data_by_name(in name varchar(255))\n",
    "begin\n",
    "select * from example_table where name = name;\n",
    "end\n",
    "\"\"\"\n",
    "\n",
    "cursor.execute(create_procedure) \n",
    "\n",
    "cursor.callproc(\"get_data_by_name\",[\"John\"])\n",
    "\n",
    "for i in cursor.stored_results():\n",
    "    print(i.fetchall())\n"
   ]
  },
  {
   "cell_type": "code",
   "execution_count": 37,
   "metadata": {},
   "outputs": [],
   "source": [
    "cursor.close()\n",
    "connection.close()"
   ]
  },
  {
   "cell_type": "code",
   "execution_count": null,
   "metadata": {},
   "outputs": [],
   "source": []
  }
 ],
 "metadata": {
  "kernelspec": {
   "display_name": "Python 3",
   "language": "python",
   "name": "python3"
  },
  "language_info": {
   "codemirror_mode": {
    "name": "ipython",
    "version": 3
   },
   "file_extension": ".py",
   "mimetype": "text/x-python",
   "name": "python",
   "nbconvert_exporter": "python",
   "pygments_lexer": "ipython3",
   "version": "3.11.3"
  },
  "orig_nbformat": 4
 },
 "nbformat": 4,
 "nbformat_minor": 2
}
